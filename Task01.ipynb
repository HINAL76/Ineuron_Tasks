{
  "nbformat": 4,
  "nbformat_minor": 0,
  "metadata": {
    "colab": {
      "name": "Task01.ipynb",
      "provenance": [],
      "collapsed_sections": []
    },
    "kernelspec": {
      "name": "python3",
      "display_name": "Python 3"
    },
    "language_info": {
      "name": "python"
    }
  },
  "cells": [
    {
      "cell_type": "code",
      "execution_count": null,
      "metadata": {
        "colab": {
          "base_uri": "https://localhost:8080/",
          "height": 53
        },
        "id": "HBPwshKjJWCw",
        "outputId": "2f5c3549-b83f-4198-8ca8-f608353d5585"
      },
      "outputs": [
        {
          "output_type": "execute_result",
          "data": {
            "text/plain": [
              "'this is My First Python programming class and i am learNING python string and its function'"
            ],
            "application/vnd.google.colaboratory.intrinsic+json": {
              "type": "string"
            }
          },
          "metadata": {},
          "execution_count": 17
        }
      ],
      "source": [
        "  s = 'this is My First Python programming class and i am learNING python string and its function'\n",
        "  s"
      ]
    },
    {
      "cell_type": "code",
      "source": [
        " #1 . Try to extract data from index one to index 300 with a jump of 3 \n",
        "\n",
        "s[0:300:3]"
      ],
      "metadata": {
        "colab": {
          "base_uri": "https://localhost:8080/",
          "height": 35
        },
        "id": "5wsS-IUsJb98",
        "outputId": "0ae5f248-f611-43d5-be19-c042ae069381"
      },
      "execution_count": null,
      "outputs": [
        {
          "output_type": "execute_result",
          "data": {
            "text/plain": [
              "'tssyityopgmncsa alrNph rgni ni'"
            ],
            "application/vnd.google.colaboratory.intrinsic+json": {
              "type": "string"
            }
          },
          "metadata": {},
          "execution_count": 18
        }
      ]
    },
    {
      "cell_type": "code",
      "source": [
        "#2.Try to reverse a string without using reverse function\n",
        "s[105:0:-1]"
      ],
      "metadata": {
        "colab": {
          "base_uri": "https://localhost:8080/",
          "height": 53
        },
        "id": "2ZShIEl7J-VI",
        "outputId": "0e059116-f453-49e5-bd02-f894aefd5839"
      },
      "execution_count": null,
      "outputs": [
        {
          "output_type": "execute_result",
          "data": {
            "text/plain": [
              "'noitcnuf sti dna gnirts nohtyp GNINrael ma i dna ssalc gnimmargorp nohtyP tsriF yM si sih'"
            ],
            "application/vnd.google.colaboratory.intrinsic+json": {
              "type": "string"
            }
          },
          "metadata": {},
          "execution_count": 32
        }
      ]
    },
    {
      "cell_type": "code",
      "source": [
        "# 3. Try to split a string after conversion of entire string in uppercase \n",
        "s.upper()"
      ],
      "metadata": {
        "colab": {
          "base_uri": "https://localhost:8080/",
          "height": 53
        },
        "id": "QXc38JGFKQz7",
        "outputId": "b3291327-5272-40e1-e292-55a0479051a5"
      },
      "execution_count": null,
      "outputs": [
        {
          "output_type": "execute_result",
          "data": {
            "text/plain": [
              "'THIS IS MY FIRST PYTHON PROGRAMMING CLASS AND I AM LEARNING PYTHON STRING AND ITS FUNCTION'"
            ],
            "application/vnd.google.colaboratory.intrinsic+json": {
              "type": "string"
            }
          },
          "metadata": {},
          "execution_count": 37
        }
      ]
    },
    {
      "cell_type": "code",
      "source": [
        "# 4. try to convert the whole string into lower case \n",
        "s.lower()"
      ],
      "metadata": {
        "colab": {
          "base_uri": "https://localhost:8080/",
          "height": 53
        },
        "id": "kKMWj9QaKV2u",
        "outputId": "12e9736f-ae3d-4b97-b584-74d62cd53308"
      },
      "execution_count": null,
      "outputs": [
        {
          "output_type": "execute_result",
          "data": {
            "text/plain": [
              "'this is my first python programming class and i am learning python string and its function'"
            ],
            "application/vnd.google.colaboratory.intrinsic+json": {
              "type": "string"
            }
          },
          "metadata": {},
          "execution_count": 38
        }
      ]
    },
    {
      "cell_type": "code",
      "source": [
        "#5 . Try to capitalize the whole string \n",
        "s.capitalize()"
      ],
      "metadata": {
        "colab": {
          "base_uri": "https://localhost:8080/",
          "height": 53
        },
        "id": "nFdVqr1eNhPo",
        "outputId": "72c2c18a-be9f-4689-d381-9605743a9c00"
      },
      "execution_count": null,
      "outputs": [
        {
          "output_type": "execute_result",
          "data": {
            "text/plain": [
              "'This is my first python programming class and i am learning python string and its function'"
            ],
            "application/vnd.google.colaboratory.intrinsic+json": {
              "type": "string"
            }
          },
          "metadata": {},
          "execution_count": 39
        }
      ]
    },
    {
      "cell_type": "code",
      "source": [
        "#6 . Write a diference between isalnum() and isalpha()\n",
        "isalnum():this function is returnes characters\n",
        "isalpha():this function returned all the character in the string \n"
      ],
      "metadata": {
        "id": "ZDfnpldVNpMF"
      },
      "execution_count": null,
      "outputs": []
    },
    {
      "cell_type": "code",
      "source": [
        "#7. Try to give an example of expand tab\n",
        "the expand() takes integer"
      ],
      "metadata": {
        "id": "m3_0zonlOTn1"
      },
      "execution_count": null,
      "outputs": []
    },
    {
      "cell_type": "markdown",
      "source": [
        ""
      ],
      "metadata": {
        "id": "21waJgzSOvTa"
      }
    },
    {
      "cell_type": "code",
      "source": [
        " #8 . Give an example of strip , lstrip and rstrip \n",
        " strip(): delete all the leading and trailing character\n",
        " lstrip(): delete all the leading chracters mentioned the after\n",
        " rstrip():delete all the trailling"
      ],
      "metadata": {
        "id": "bcGDRWhbPAaW"
      },
      "execution_count": null,
      "outputs": []
    },
    {
      "cell_type": "code",
      "source": [
        "# 10 . Try  to give a defination of string center function with and exmple \n",
        "the center method will center align a string using a specified character"
      ],
      "metadata": {
        "id": "5ncBUyNJPe55"
      },
      "execution_count": null,
      "outputs": []
    },
    {
      "cell_type": "code",
      "source": [
        "#11 . Write your own definition of compiler and interpretor without copy paste form internet in your own language\n",
        "compiler: a compiler traslates the entire  source code in a single run.\n",
        "interpreter: an interpreter transltes the entire sourse code line by line."
      ],
      "metadata": {
        "id": "NTcwP5miQke6"
      },
      "execution_count": null,
      "outputs": []
    },
    {
      "cell_type": "code",
      "source": [
        "# 12 . Python is a interpreted of compiled language give a clear ans with your understanding \n",
        "Python is an interpreted language, which means the source code of a Python program is converted into bytecode that is then executed by the Python virtual machine."
      ],
      "metadata": {
        "id": "-k8gQqecSOt5"
      },
      "execution_count": null,
      "outputs": []
    },
    {
      "cell_type": "code",
      "source": [
        "#    13 . Try to write a usecase of python with your understanding .\n",
        ":-Data science. \n",
        ":-AI applications. \n",
        ":-Game development\n",
        ":-AI\n",
        ":-Ml"
      ],
      "metadata": {
        "id": "2xSox99WSidb"
      },
      "execution_count": null,
      "outputs": []
    }
  ]
}