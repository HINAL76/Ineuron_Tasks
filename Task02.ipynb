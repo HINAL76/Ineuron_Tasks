{
  "nbformat": 4,
  "nbformat_minor": 0,
  "metadata": {
    "colab": {
      "name": "Task02.ipynb",
      "provenance": []
    },
    "kernelspec": {
      "name": "python3",
      "display_name": "Python 3"
    },
    "language_info": {
      "name": "python"
    }
  },
  "cells": [
    {
      "cell_type": "code",
      "execution_count": 1,
      "metadata": {
        "id": "w2qRUsfV50wB"
      },
      "outputs": [],
      "source": [
        "#q1:"
      ]
    },
    {
      "cell_type": "code",
      "source": [
        "for i in range(5):\n",
        "  print('ineuron '*i)"
      ],
      "metadata": {
        "colab": {
          "base_uri": "https://localhost:8080/"
        },
        "id": "qe3mdTst6ZC5",
        "outputId": "d8d61c0c-6482-43dc-a960-8d411a7a1048"
      },
      "execution_count": 2,
      "outputs": [
        {
          "output_type": "stream",
          "name": "stdout",
          "text": [
            "\n",
            "ineuron \n",
            "ineuron ineuron \n",
            "ineuron ineuron ineuron \n",
            "ineuron ineuron ineuron ineuron \n"
          ]
        }
      ]
    },
    {
      "cell_type": "code",
      "source": [
        "#q2:\n"
      ],
      "metadata": {
        "id": "O5Wkq3Z16jdC"
      },
      "execution_count": 4,
      "outputs": []
    },
    {
      "cell_type": "code",
      "source": [
        "for i in range(6):\n",
        "  if i<=3:\n",
        "    n=i\n",
        "  else:\n",
        "    n=6-i\n",
        "  print((\"ineuron \"*n).center(50,' '))"
      ],
      "metadata": {
        "colab": {
          "base_uri": "https://localhost:8080/"
        },
        "id": "y7lXgJoK6mBO",
        "outputId": "6c9f92a2-e8ac-4e2e-b827-daaed9c0ebf5"
      },
      "execution_count": 6,
      "outputs": [
        {
          "output_type": "stream",
          "name": "stdout",
          "text": [
            "                                                  \n",
            "                     ineuron                      \n",
            "                 ineuron ineuron                  \n",
            "             ineuron ineuron ineuron              \n",
            "                 ineuron ineuron                  \n",
            "                     ineuron                      \n"
          ]
        }
      ]
    },
    {
      "cell_type": "code",
      "source": [
        "l=[[1,2,3,4],(2,3,4,5,6),(3,4,5,6,7),set([23,4,5,45,4,4,5,445,45,4,5]),\n",
        "   {'k1':\"sudh\", 'k2':\"ineuron\",'k3':\"kumar\",3:6,7:8},[\"ineuron\",\"data science\"]]\n"
      ],
      "metadata": {
        "id": "RKZEwlv3691N"
      },
      "execution_count": 8,
      "outputs": []
    },
    {
      "cell_type": "code",
      "source": [
        "#q3:try to extract all the list entity\n"
      ],
      "metadata": {
        "id": "-8lyGJhE7rzI"
      },
      "execution_count": 10,
      "outputs": []
    },
    {
      "cell_type": "code",
      "source": [
        "for i in l:\n",
        "  if type(i) == list:\n",
        "    print(i)"
      ],
      "metadata": {
        "colab": {
          "base_uri": "https://localhost:8080/"
        },
        "id": "7D4QREyF760p",
        "outputId": "8df6edcc-5ba9-4c2f-a5a0-14e3a3a0a975"
      },
      "execution_count": 11,
      "outputs": [
        {
          "output_type": "stream",
          "name": "stdout",
          "text": [
            "[1, 2, 3, 4]\n",
            "['ineuron', 'data science']\n"
          ]
        }
      ]
    },
    {
      "cell_type": "code",
      "source": [
        "#q4:try to extract all the dict enteties"
      ],
      "metadata": {
        "id": "AtNeWV5E8Qpk"
      },
      "execution_count": 12,
      "outputs": []
    },
    {
      "cell_type": "code",
      "source": [
        "for i in l:\n",
        "  if type(i)==dict:\n",
        "    print(i)"
      ],
      "metadata": {
        "colab": {
          "base_uri": "https://localhost:8080/"
        },
        "id": "FrupnlCk8aKd",
        "outputId": "eb731527-f19e-4b2a-c9c9-0164338bbf75"
      },
      "execution_count": 13,
      "outputs": [
        {
          "output_type": "stream",
          "name": "stdout",
          "text": [
            "{'k1': 'sudh', 'k2': 'ineuron', 'k3': 'kumar', 3: 6, 7: 8}\n"
          ]
        }
      ]
    },
    {
      "cell_type": "code",
      "source": [
        "#q5:try to extract all the tuples enteties"
      ],
      "metadata": {
        "id": "t-L_vmzH8rDh"
      },
      "execution_count": 14,
      "outputs": []
    },
    {
      "cell_type": "code",
      "source": [
        "for i in l:\n",
        "  if type(i)==tuple:\n",
        "    print(i)"
      ],
      "metadata": {
        "colab": {
          "base_uri": "https://localhost:8080/"
        },
        "id": "MLfeMNkp80z9",
        "outputId": "e041c47d-7426-407e-978c-88d322baba3c"
      },
      "execution_count": 15,
      "outputs": [
        {
          "output_type": "stream",
          "name": "stdout",
          "text": [
            "(2, 3, 4, 5, 6)\n",
            "(3, 4, 5, 6, 7)\n"
          ]
        }
      ]
    },
    {
      "cell_type": "code",
      "source": [
        "#q6:try to extract all the numerical data it may b a part of dict key and values"
      ],
      "metadata": {
        "id": "2KWzLJjS8573"
      },
      "execution_count": 16,
      "outputs": []
    },
    {
      "cell_type": "code",
      "source": [
        "for i in l:\n",
        "  if type(i)!=dict:\n",
        "    for j in i:\n",
        "      if type(j)==int:\n",
        "        print(j)\n",
        "  elif type(i)==dict:\n",
        "    for m in i:\n",
        "      if type(m)==int:\n",
        "        print(m)\n",
        "      if type(i[m]) == int:\n",
        "        print(i[m])"
      ],
      "metadata": {
        "colab": {
          "base_uri": "https://localhost:8080/"
        },
        "id": "la8C-gu09Ec8",
        "outputId": "95d8259a-b2ea-4297-9356-188bbebbdad2"
      },
      "execution_count": 18,
      "outputs": [
        {
          "output_type": "stream",
          "name": "stdout",
          "text": [
            "1\n",
            "2\n",
            "3\n",
            "4\n",
            "2\n",
            "3\n",
            "4\n",
            "5\n",
            "6\n",
            "3\n",
            "4\n",
            "5\n",
            "6\n",
            "7\n",
            "4\n",
            "5\n",
            "45\n",
            "23\n",
            "445\n",
            "3\n",
            "6\n",
            "7\n",
            "8\n"
          ]
        }
      ]
    },
    {
      "cell_type": "code",
      "source": [
        "#q7:try to given summation of all the numeric data"
      ],
      "metadata": {
        "id": "-94nU70J9wTP"
      },
      "execution_count": 19,
      "outputs": []
    },
    {
      "cell_type": "code",
      "source": [
        ""
      ],
      "metadata": {
        "id": "8-5VRSu297MX"
      },
      "execution_count": 31,
      "outputs": []
    },
    {
      "cell_type": "code",
      "source": [
        "#q8:try to filter out of all the numeric data which is part of a list"
      ],
      "metadata": {
        "id": "6Jv4-ITf-CBw"
      },
      "execution_count": 21,
      "outputs": []
    },
    {
      "cell_type": "code",
      "source": [
        "for i in l:\n",
        "  if type(i)==list:\n",
        "    for j in i:\n",
        "      if type(j)== int and j%2 !=0:\n",
        "        print(j)"
      ],
      "metadata": {
        "colab": {
          "base_uri": "https://localhost:8080/"
        },
        "id": "fvEy2Rtc-ORb",
        "outputId": "5e51fb33-82c4-4dfc-8dc7-b9c65bbdde9b"
      },
      "execution_count": 22,
      "outputs": [
        {
          "output_type": "stream",
          "name": "stdout",
          "text": [
            "1\n",
            "3\n"
          ]
        }
      ]
    },
    {
      "cell_type": "code",
      "source": [
        "#q9:try to extract \"ineuron\" out of this data"
      ],
      "metadata": {
        "id": "qy1LYmz3-a6Z"
      },
      "execution_count": 23,
      "outputs": []
    },
    {
      "cell_type": "code",
      "source": [
        "for i in l:\n",
        "  if type(i) !=dict:\n",
        "    for j in i:\n",
        "      if j=='ineuron':\n",
        "        print(j)\n",
        "  else:\n",
        "    for j in i:\n",
        "      if i[j] == 'ineuron':\n",
        "        print(i[j])"
      ],
      "metadata": {
        "colab": {
          "base_uri": "https://localhost:8080/"
        },
        "id": "-lbtOqQ7-htf",
        "outputId": "6fa6ca56-4214-4783-f395-7af2ce56b5b8"
      },
      "execution_count": 24,
      "outputs": [
        {
          "output_type": "stream",
          "name": "stdout",
          "text": [
            "ineuron\n",
            "ineuron\n"
          ]
        }
      ]
    },
    {
      "cell_type": "code",
      "source": [
        "#q10:try to upperwrape all the collection inside collection and create a flat list"
      ],
      "metadata": {
        "id": "gETBFbR3-27-"
      },
      "execution_count": 25,
      "outputs": []
    },
    {
      "cell_type": "code",
      "source": [
        "u=[]\n",
        "for i in l:\n",
        "  if type(i) !=dict:\n",
        "    u.extend(i)\n",
        "  else:\n",
        "    u.extend(i.keys())\n",
        "    u.extend(i.values())\n",
        "u"
      ],
      "metadata": {
        "colab": {
          "base_uri": "https://localhost:8080/"
        },
        "id": "qRChhX7P_RWP",
        "outputId": "246e2839-4b4e-4e9b-e941-f012911d78db"
      },
      "execution_count": 28,
      "outputs": [
        {
          "output_type": "execute_result",
          "data": {
            "text/plain": [
              "[1,\n",
              " 2,\n",
              " 3,\n",
              " 4,\n",
              " 2,\n",
              " 3,\n",
              " 4,\n",
              " 5,\n",
              " 6,\n",
              " 3,\n",
              " 4,\n",
              " 5,\n",
              " 6,\n",
              " 7,\n",
              " 4,\n",
              " 5,\n",
              " 45,\n",
              " 23,\n",
              " 445,\n",
              " 'k1',\n",
              " 'k2',\n",
              " 'k3',\n",
              " 3,\n",
              " 7,\n",
              " 'sudh',\n",
              " 'ineuron',\n",
              " 'kumar',\n",
              " 6,\n",
              " 8,\n",
              " 'ineuron',\n",
              " 'data science']"
            ]
          },
          "metadata": {},
          "execution_count": 28
        }
      ]
    },
    {
      "cell_type": "code",
      "source": [
        "#q11:try to find out number of keys in dict element"
      ],
      "metadata": {
        "id": "CufH1Kzz_g66"
      },
      "execution_count": 29,
      "outputs": []
    },
    {
      "cell_type": "code",
      "source": [
        "for i in l:\n",
        "  if type(i)==dict:\n",
        "    print(\"no of keys in dictionary is:\",len(i))"
      ],
      "metadata": {
        "colab": {
          "base_uri": "https://localhost:8080/"
        },
        "id": "jK4Csr2Z_yxc",
        "outputId": "5414c300-a4b9-43b3-c16a-0dcbc489d991"
      },
      "execution_count": 31,
      "outputs": [
        {
          "output_type": "stream",
          "name": "stdout",
          "text": [
            "no of keys in dictionary is: 5\n"
          ]
        }
      ]
    },
    {
      "cell_type": "code",
      "source": [
        ""
      ],
      "metadata": {
        "id": "Zzqo3VC6_90D"
      },
      "execution_count": null,
      "outputs": []
    }
  ]
}